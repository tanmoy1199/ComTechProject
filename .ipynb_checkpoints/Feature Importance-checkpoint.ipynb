{
 "cells": [
  {
   "cell_type": "code",
   "execution_count": 5,
   "metadata": {},
   "outputs": [
    {
     "name": "stdout",
     "output_type": "stream",
     "text": [
      "[0.16570536 0.00432702 0.00361399 0.00475542 0.05416724 0.08400209\n",
      " 0.04346005 0.03820835 0.05446566 0.02286857 0.02594054 0.03229601\n",
      " 0.0238714  0.01032139 0.01109291 0.01750693 0.04595898 0.08917845\n",
      " 0.06225501 0.00519675 0.00435714 0.00497101 0.01355489 0.00671881\n",
      " 0.01704632 0.01533665 0.01269043 0.01234852 0.01314664 0.01114985\n",
      " 0.02606603 0.00854224 0.01384281 0.01398975 0.00741695 0.00837921\n",
      " 0.01125063]\n"
     ]
    }
   ],
   "source": [
    "import seaborn as sns\n",
    "import matplotlib.pyplot as plt\n",
    "import pandas as pd\n",
    "import numpy as np\n",
    "data = pd.read_csv('csv_result-test_50.csv')\n",
    "X = data.iloc[ :, :-1].values\n",
    "Y=  data.iloc[:, -1].values\n",
    "model = ExtraTreesClassifier(n_estimators=10)\n",
    "model.fit(X, Y)\n",
    "print(model.feature_importances_)"
   ]
  },
  {
   "cell_type": "code",
   "execution_count": null,
   "metadata": {},
   "outputs": [],
   "source": []
  }
 ],
 "metadata": {
  "kernelspec": {
   "display_name": "Python 3",
   "language": "python",
   "name": "python3"
  },
  "language_info": {
   "codemirror_mode": {
    "name": "ipython",
    "version": 3
   },
   "file_extension": ".py",
   "mimetype": "text/x-python",
   "name": "python",
   "nbconvert_exporter": "python",
   "pygments_lexer": "ipython3",
   "version": "3.7.6"
  }
 },
 "nbformat": 4,
 "nbformat_minor": 4
}
