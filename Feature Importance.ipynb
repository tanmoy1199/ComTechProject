{
 "cells": [
  {
   "cell_type": "code",
   "execution_count": 25,
   "metadata": {},
   "outputs": [],
   "source": [
    "import pandas as pd\n",
    "from sklearn.ensemble import ExtraTreesClassifier\n",
    "from numpy import set_printoptions\n",
    "from sklearn.feature_selection import SelectKBest\n",
    "from sklearn.feature_selection import f_classif"
   ]
  },
  {
   "cell_type": "code",
   "execution_count": 26,
   "metadata": {},
   "outputs": [],
   "source": [
    "data = pd.read_csv('csv_result-test_50.csv')"
   ]
  },
  {
   "cell_type": "code",
   "execution_count": 33,
   "metadata": {},
   "outputs": [],
   "source": [
    "X = data.iloc[ :, 1:-1].values\n",
    "Y=  data.iloc[:, -1].values"
   ]
  },
  {
   "cell_type": "code",
   "execution_count": 41,
   "metadata": {},
   "outputs": [],
   "source": [
    "model = ExtraTreesClassifier(n_estimators=100)"
   ]
  },
  {
   "cell_type": "code",
   "execution_count": 42,
   "metadata": {},
   "outputs": [
    {
     "data": {
      "text/plain": [
       "ExtraTreesClassifier(bootstrap=False, ccp_alpha=0.0, class_weight=None,\n",
       "                     criterion='gini', max_depth=None, max_features='auto',\n",
       "                     max_leaf_nodes=None, max_samples=None,\n",
       "                     min_impurity_decrease=0.0, min_impurity_split=None,\n",
       "                     min_samples_leaf=1, min_samples_split=2,\n",
       "                     min_weight_fraction_leaf=0.0, n_estimators=100,\n",
       "                     n_jobs=None, oob_score=False, random_state=None, verbose=0,\n",
       "                     warm_start=False)"
      ]
     },
     "execution_count": 42,
     "metadata": {},
     "output_type": "execute_result"
    }
   ],
   "source": [
    "model.fit(X, Y)"
   ]
  },
  {
   "cell_type": "code",
   "execution_count": 36,
   "metadata": {},
   "outputs": [
    {
     "name": "stdout",
     "output_type": "stream",
     "text": [
      "[0.008 0.006 0.008 0.064 0.061 0.056 0.118 0.063 0.015 0.023 0.039 0.029\n",
      " 0.006 0.012 0.007 0.032 0.11  0.069 0.006 0.005 0.007 0.017 0.008 0.019\n",
      " 0.014 0.01  0.01  0.029 0.018 0.04  0.024 0.015 0.02  0.011 0.01  0.01 ]\n"
     ]
    }
   ],
   "source": [
    "print(model.feature_importances_)"
   ]
  },
  {
   "cell_type": "code",
   "execution_count": 40,
   "metadata": {},
   "outputs": [
    {
     "name": "stdout",
     "output_type": "stream",
     "text": [
      "[9.511e-01 4.906e-01 2.419e-01 9.086e+02 4.317e+03 4.023e+03 8.212e+02\n",
      " 2.736e+03 1.199e+03 1.119e+03 1.610e+03 1.269e+03 2.091e+02 7.594e+02\n",
      " 4.912e+02 1.125e+03 9.369e+03 7.050e+03 9.091e-02 1.722e-02 1.862e-01\n",
      " 1.643e+03 8.064e+02 5.421e+02 1.178e+03 5.497e+02 7.514e+02 1.935e+03\n",
      " 1.350e+03 1.218e+03 1.040e+03 4.964e+02 5.553e+02 2.901e+00 2.363e+01\n",
      " 3.828e+01]\n",
      "[[  0.049  -8.91   -1.986 -10.003]\n",
      " [  0.288  -9.087  -0.554 -10.013]\n",
      " [  1.382  -9.44   -0.565 -10.12 ]\n",
      " [ -0.188  -9.805  -0.371  -9.966]\n",
      " [ -0.319  -9.957  -0.407 -10.024]]\n"
     ]
    }
   ],
   "source": [
    "test = SelectKBest(score_func=f_classif, k=4)\n",
    "fit = test.fit(X, Y)\n",
    "print(fit.scores_)\n",
    "features = fit.transform(X)\n",
    "set_printoptions(precision=3)\n",
    "print(features[0:5,:])"
   ]
  },
  {
   "cell_type": "code",
   "execution_count": null,
   "metadata": {},
   "outputs": [],
   "source": []
  }
 ],
 "metadata": {
  "kernelspec": {
   "display_name": "Python 3",
   "language": "python",
   "name": "python3"
  },
  "language_info": {
   "codemirror_mode": {
    "name": "ipython",
    "version": 3
   },
   "file_extension": ".py",
   "mimetype": "text/x-python",
   "name": "python",
   "nbconvert_exporter": "python",
   "pygments_lexer": "ipython3",
   "version": "3.7.6"
  }
 },
 "nbformat": 4,
 "nbformat_minor": 4
}
